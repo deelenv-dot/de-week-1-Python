{
 "cells": [
  {
   "cell_type": "markdown",
   "id": "9b0d0c20-5d0d-4e47-8552-e4267eef27b1",
   "metadata": {},
   "source": [
    "# 2) Strings — Exercises\n",
    "\n",
    "**Learning goals:** indexing/slicing, methods, immutability, join/split, normalization, searching, simple formatting.\n"
   ]
  },
  {
   "cell_type": "markdown",
   "id": "5bd86df0-fd51-40c5-a69c-2e832312e85e",
   "metadata": {},
   "source": [
    "### Warm-ups\n",
    "\n",
    "1. **Middle char(s)**\n",
    "\n",
    "   * `middle(s)` → If odd length return the middle char, else return the two middle chars.\n",
    "\n",
    "   ```python\n",
    "   def middle(s):\n",
    "       ...\n",
    "   assert middle(\"abc\") == \"b\"\n",
    "   assert middle(\"abba\") == \"bb\"\n",
    "   ```\n",
    "\n",
    "2. **Title-case safely**\n",
    "\n",
    "   * `safe_title(s)` → title case but do not lowercase words fully in ALL CAPS acronyms (e.g., `\"learn SQL now\"` → `\"Learn SQL Now\"`; `\"use GPU\"` → `\"Use GPU\"`).\n",
    "\n",
    "   ```python\n",
    "   def safe_title(s):\n",
    "       ...\n",
    "   ```\n",
    "\n",
    "3. **Reverse words**\n",
    "\n",
    "   * `reverse_words(s)` → reverse word order but keep internal characters.\n",
    "\n",
    "   ```python\n",
    "   def reverse_words(s):\n",
    "       ...\n",
    "   assert reverse_words(\"one two  three\") == \"three two  one\"\n",
    "   ```\n",
    "\n",
    "### Core\n",
    "\n",
    "4. **Normalize spaces**\n",
    "\n",
    "   * `squash_spaces(s)` → collapse multiple spaces/tabs to a single space; strip ends.\n",
    "\n",
    "   ```python\n",
    "   def squash_spaces(s):\n",
    "       ...\n",
    "   assert squash_spaces(\"  a\\t b   c \") == \"a b c\"\n",
    "   ```\n",
    "\n",
    "5. **CSV line → list (no quotes)**\n",
    "\n",
    "   * `split_csv(s)` → split by commas, trim whitespace around fields; ignore empty trailing field if line ends with comma.\n",
    "\n",
    "   ```python\n",
    "   def split_csv(s):\n",
    "       ...\n",
    "   assert split_csv(\" a, b ,c,\") == [\"a\",\"b\",\"c\"]\n",
    "   ```\n",
    "\n",
    "6. **Mask secrets**\n",
    "\n",
    "   * `mask_email(s)` → keep first char of user and domain, mask the rest with `*`, keep TLD.\n",
    "\n",
    "     * `\"alice@example.com\"` → `\"a****@e******.com\"`\n",
    "\n",
    "   ```python\n",
    "   def mask_email(s):\n",
    "       ...\n",
    "   ```\n",
    "\n",
    "7. **Find all indexes**\n",
    "\n",
    "   * `find_all(s, sub)` → list of start indices where `sub` occurs (including overlaps).\n",
    "\n",
    "   ```python\n",
    "   def find_all(s, sub):\n",
    "       ...\n",
    "   assert find_all(\"aaaa\", \"aa\") == [0,1,2]\n",
    "   ```\n",
    "\n",
    "8. **Anagram check**\n",
    "\n",
    "   * `is_anagram(a, b)` ignoring spaces, case, punctuation.\n",
    "\n",
    "   ```python\n",
    "   def is_anagram(a, b):\n",
    "       ...\n",
    "   assert is_anagram(\"Listen\", \"Silent\")\n",
    "   ```\n",
    "\n",
    "9. **Format table row**\n",
    "\n",
    "   * `fmt_row(values, widths)` → left-align strings to fixed widths, joined by `\" | \"`.\n",
    "\n",
    "   ```python\n",
    "   def fmt_row(values, widths):\n",
    "       ...\n",
    "   assert fmt_row([\"a\",\"bb\"], [3,4]) == \"a  | bb  \"\n",
    "   ```\n",
    "\n",
    "### Challenge\n",
    "\n",
    "10. **Slugify**\n",
    "\n",
    "    * `slugify(title)` → lowercase, trim, replace runs of non-alnum with single `-`, remove leading/trailing `-`.\n",
    "\n",
    "    ```python\n",
    "    def slugify(title):\n",
    "        ...\n",
    "    assert slugify(\"Hello,  World!!\") == \"hello-world\"\n",
    "    ```\n",
    "\n"
   ]
  },
  {
   "cell_type": "code",
   "execution_count": 83,
   "id": "6c0a8286",
   "metadata": {},
   "outputs": [],
   "source": [
    "# `middle(s)` → If odd length return the middle char, else return the two middle chars.\n",
    "\n",
    "def middle(s):\n",
    "    if len(s) % 2 == 1:\n",
    "        return s[round(len(s)/2)-1]\n",
    "    else:\n",
    "        return s[round(len(s)/2)-1]+s[round(len(s)/2)]\n",
    "\n",
    "assert middle(\"abc\") == \"b\"\n",
    "assert middle(\"abba\") == \"bb\""
   ]
  },
  {
   "cell_type": "code",
   "execution_count": 84,
   "id": "bccce0a6",
   "metadata": {},
   "outputs": [
    {
     "data": {
      "text/plain": [
       "'Learn SQL Now'"
      ]
     },
     "execution_count": 84,
     "metadata": {},
     "output_type": "execute_result"
    }
   ],
   "source": [
    "# `safe_title(s)` → title case but do not lowercase words fully in ALL CAPS acronyms (e.g., `\"learn SQL now\"` → `\"Learn SQL Now\"`; `\"use GPU\"` → `\"Use GPU\"`).\n",
    "\n",
    "\n",
    "def safe_title(s):\n",
    "    s_splitted = s.split()\n",
    "    s_safe = ''\n",
    "    for str in s_splitted:\n",
    "        if str.isupper() == False:\n",
    "            str = str.title()\n",
    "        s_safe += (str + ' ')\n",
    "    return s_safe.strip()\n",
    "\n",
    "safe_title(\"learn SQL now\")"
   ]
  },
  {
   "cell_type": "code",
   "execution_count": 85,
   "id": "072b4a52",
   "metadata": {},
   "outputs": [
    {
     "data": {
      "text/plain": [
       "'three two  one'"
      ]
     },
     "execution_count": 85,
     "metadata": {},
     "output_type": "execute_result"
    }
   ],
   "source": [
    "# `reverse_words(s)` → reverse word order but keep internal characters.\n",
    "import re\n",
    "\n",
    "def reverse_words(s):\n",
    "    tokens = re.split(r'(\\s+)', s)\n",
    "    words = [t for t in tokens if not t.isspace() and t != '']\n",
    "    words.reverse()\n",
    "    \n",
    "    result = []\n",
    "    word_i = 0\n",
    "    for t in tokens:\n",
    "        if t.isspace():\n",
    "            result.append(t)  # keep spaces unchanged\n",
    "        elif t != '':\n",
    "            result.append(words[word_i])  # put next reversed word\n",
    "            word_i += 1\n",
    "    return ''.join(result)\n",
    "\n",
    "# assert reverse_words(\"one two  three\") == \"three two  one\"\n",
    "reverse_words(\"one two  three\")"
   ]
  },
  {
   "cell_type": "code",
   "execution_count": 86,
   "id": "593507ef",
   "metadata": {},
   "outputs": [],
   "source": [
    "# `squash_spaces(s)` → collapse multiple spaces/tabs to a single space; strip ends.\n",
    "\n",
    "def squash_spaces(s):\n",
    "    s = s.replace('\\t', '')\n",
    "    s_split = s.split()\n",
    "    result = ''\n",
    "    for str in s_split:\n",
    "        result += str + ' '\n",
    "    return result.strip()\n",
    "\n",
    "assert squash_spaces(\"  a\\t b   c \") == \"a b c\""
   ]
  },
  {
   "cell_type": "code",
   "execution_count": 87,
   "id": "5679f630",
   "metadata": {},
   "outputs": [],
   "source": [
    "# `split_csv(s)` → split by commas, trim whitespace around fields; ignore empty trailing field if line ends with comma.\n",
    "\n",
    "def split_csv(s):\n",
    "    s_split = s.split(',')\n",
    "    if s_split[len(s_split)-1] == '':\n",
    "        s_split.pop()\n",
    "    s_split = [field.strip() for field in s_split]\n",
    "    return s_split\n",
    "\n",
    "assert split_csv(\" a, b ,c,\") == [\"a\",\"b\",\"c\"]"
   ]
  },
  {
   "cell_type": "code",
   "execution_count": 88,
   "id": "3185dad2",
   "metadata": {},
   "outputs": [
    {
     "data": {
      "text/plain": [
       "'a****@e******.com'"
      ]
     },
     "execution_count": 88,
     "metadata": {},
     "output_type": "execute_result"
    }
   ],
   "source": [
    "# `mask_email(s)` → keep first char of user and domain, mask the rest with `*`, keep TLD.\n",
    "\n",
    "# `\"alice@example.com\"` → `\"a****@e******.com\"`\n",
    "\n",
    "def mask_email(s):\n",
    "    at_pos = s.find('@')\n",
    "    dot_pos = s.find('.')\n",
    "    lst = list(s)\n",
    "    for i in range(1, dot_pos):\n",
    "        if i != at_pos and i != at_pos + 1:\n",
    "            lst[i] = '*'\n",
    "    s = \"\".join(lst)\n",
    "    return s\n",
    "\n",
    "mask_email(\"alice@example.com\")"
   ]
  },
  {
   "cell_type": "code",
   "execution_count": 89,
   "id": "64358bf3",
   "metadata": {},
   "outputs": [],
   "source": [
    "# `find_all(s, sub)` → list of start indices where `sub` occurs (including overlaps).\n",
    "\n",
    "def find_all(s, sub):\n",
    "    indices = []\n",
    "    start = 0\n",
    "    while True:\n",
    "        i = s.find(sub, start)\n",
    "        if i == -1:\n",
    "            break\n",
    "        indices.append(i)\n",
    "        start = i + 1\n",
    "    return indices\n",
    "\n",
    "assert find_all(\"aaaa\", \"aa\") == [0,1,2]"
   ]
  },
  {
   "cell_type": "code",
   "execution_count": 90,
   "id": "33177794",
   "metadata": {},
   "outputs": [],
   "source": [
    "# `is_anagram(a, b)` ignoring spaces, case, punctuation.\n",
    "\n",
    "def is_anagram(a, b):\n",
    "    a = \"\".join(ch for ch in a if ch.isalnum())\n",
    "    b = \"\".join(ch for ch in b if ch.isalnum())\n",
    "    a = a.lower()\n",
    "    b = b.lower()\n",
    "    a_lst = list(a)\n",
    "    a_lst.sort()\n",
    "    b_lst = list(b)\n",
    "    b_lst.sort()\n",
    "    if a_lst == b_lst:\n",
    "        return True\n",
    "    else:\n",
    "        return False\n",
    "\n",
    "assert is_anagram(\"Listen\", \"Silent\")"
   ]
  },
  {
   "cell_type": "code",
   "execution_count": 91,
   "id": "d126345f",
   "metadata": {},
   "outputs": [],
   "source": [
    "# `fmt_row(values, widths)` → left-align strings to fixed widths, joined by `\" | \"`.\n",
    "\n",
    "def fmt_row(values, widths):\n",
    "    if len(values) != len(widths):\n",
    "        raise ValueError(\"values and widths must have the same length\")\n",
    "    cells = [(\"\" if v is None else str(v)).ljust(w) for v, w in zip(values, widths)]\n",
    "    return \" | \".join(cells)\n",
    "\n",
    "assert fmt_row([\"a\",\"bb\"], [3,4]) == \"a   | bb  \""
   ]
  },
  {
   "cell_type": "code",
   "execution_count": 92,
   "id": "87456117",
   "metadata": {},
   "outputs": [],
   "source": [
    "# `slugify(title)` → lowercase, trim, replace runs of non-alnum with single `-`, remove leading/trailing `-`.\n",
    "\n",
    "def slugify(title):\n",
    "    title = title.strip().lower()\n",
    "    out = []\n",
    "    prev_dash = False\n",
    "    \n",
    "    for ch in title:\n",
    "        if ch.isalnum():\n",
    "            out.append(ch)\n",
    "            prev_dash = False\n",
    "        else:\n",
    "            if not prev_dash:\n",
    "                out.append('-')\n",
    "                prev_dash = True\n",
    "    \n",
    "    return ''.join(out).strip('-')\n",
    "\n",
    "assert slugify(\"Hello,  World!!\") == \"hello-world\""
   ]
  }
 ],
 "metadata": {
  "kernelspec": {
   "display_name": ".venv (3.12.3)",
   "language": "python",
   "name": "python3"
  },
  "language_info": {
   "codemirror_mode": {
    "name": "ipython",
    "version": 3
   },
   "file_extension": ".py",
   "mimetype": "text/x-python",
   "name": "python",
   "nbconvert_exporter": "python",
   "pygments_lexer": "ipython3",
   "version": "3.12.3"
  }
 },
 "nbformat": 4,
 "nbformat_minor": 5
}
