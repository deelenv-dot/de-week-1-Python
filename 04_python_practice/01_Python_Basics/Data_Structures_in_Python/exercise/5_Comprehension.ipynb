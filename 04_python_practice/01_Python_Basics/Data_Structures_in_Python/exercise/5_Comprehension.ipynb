{
 "cells": [
  {
   "cell_type": "markdown",
   "id": "ffb62607-4ab5-4e2b-90d7-f2055a8c2e76",
   "metadata": {},
   "source": [
    "# 5) Comprehensions — Exercises\n",
    "\n",
    "**Learning goals:** list/set/dict/generator comprehensions, filtering, conditional expressions in comprehensions, nested comprehensions, readability.\n",
    "\n",
    "### Warm-ups\n",
    "\n",
    "1. **Squares & odds**\n",
    "\n",
    "```python\n",
    "def squares(n): ...\n",
    "def odds(xs): ...\n",
    "assert squares(4) == [1,4,9,16]\n",
    "assert odds([1,2,3,4]) == [1,3]\n",
    "```\n",
    "\n",
    "2. **Normalize emails (lowercase + strip)**\n",
    "\n",
    "```python\n",
    "def normalize_emails(items):\n",
    "    \"\"\"items: list of raw emails; return unique normalized set.\"\"\"\n",
    "    ...\n",
    "assert normalize_emails([\" A@X.com \",\"a@x.COM\"]) == {\"a@x.com\"}\n",
    "```\n",
    "\n",
    "3. **Dict of lengths (filter ≥3)**\n",
    "\n",
    "```python\n",
    "def lengths_at_least(words, k=3):\n",
    "    ...\n",
    "assert lengths_at_least([\"a\",\"bbb\",\"cc\"],3) == {\"bbb\":3}\n",
    "```\n",
    "\n",
    "### Core\n",
    "\n",
    "4. **Transpose with nested comprehension** (no `zip`)\n",
    "\n",
    "```python\n",
    "def transpose(m):\n",
    "    rows = len(m); cols = len(m[0]) if rows else 0\n",
    "    return [[m[r][c] for r in range(rows)] for c in range(cols)]\n",
    "assert transpose([[1,2,3],[4,5,6]]) == [[1,4],[2,5],[3,6]]\n",
    "```\n",
    "\n",
    "5. **Flatten only numbers**\n",
    "\n",
    "```python\n",
    "def flatten_numbers(rows):\n",
    "    \"\"\"rows: mixed items; collect only ints/floats in one list.\"\"\"\n",
    "    ...\n",
    "assert flatten_numbers([[1,\"x\"],[2.5,None],[\"y\"]]) == [1,2.5]\n",
    "```\n",
    "\n",
    "6. **Frequency (dict comp) with threshold**\n",
    "\n",
    "```python\n",
    "def freq_ge(xs, min_count=2):\n",
    "    from collections import Counter\n",
    "    c = Counter(xs)\n",
    "    return {k:v for k,v in c.items() if v >= min_count}\n",
    "assert freq_ge(\"aabbbc\",3) == {\"b\":3}\n",
    "```\n",
    "\n",
    "7. **Reverse index (first character)**\n",
    "\n",
    "```python\n",
    "def index_by_first_char(words):\n",
    "    \"\"\"Return dict: first_char -> list of words (keep order).\"\"\"\n",
    "    ...\n",
    "assert index_by_first_char([\"apple\",\"art\",\"bee\",\"bat\"]) == {\"a\":[\"apple\",\"art\"],\"b\":[\"bee\",\"bat\"]}\n",
    "```\n",
    "\n",
    "8. **Conditional mapping** — square positives, keep negatives as is\n",
    "\n",
    "```python\n",
    "def map_square_pos(xs):\n",
    "    return [x*x if x>0 else x for x in xs]\n",
    "assert map_square_pos([-2,0,3]) == [-2,0,9]\n",
    "```\n",
    "\n",
    "9. **Set of 2-letter combos (letters only)**\n",
    "\n",
    "```python\n",
    "def two_letter_pairs(words):\n",
    "    \"\"\"Return set of first-two-letter tuples from alphabetic words only.\"\"\"\n",
    "    ...\n",
    "assert two_letter_pairs([\"Hi!\",\"oh\",\"2fast\",\"ok\"]) == {(\"h\",\"i\"),(\"o\",\"h\"),(\"o\",\"k\")}\n",
    "```\n",
    "\n",
    "### Challenge\n",
    "\n",
    "10. **Nested dict comp: gradebook buckets**\n",
    "    Bucket students by **letter grade** using a single dict comprehension around a grouping pass:\n",
    "\n",
    "```python\n",
    "def grade_buckets(pairs):\n",
    "    \"\"\"\n",
    "    pairs: iterable of (name, score 0..100).\n",
    "    Buckets: A>=90, B>=80, C>=70, D>=60, F else.\n",
    "    Return dict like {\"A\":[names...], \"B\":[...], ...} excluding empty buckets.\n",
    "    \"\"\"\n",
    "    ...\n",
    "grades = grade_buckets([(\"Ana\",95),(\"Bo\",82),(\"Cy\",67),(\"Di\",50)])\n",
    "assert grades[\"A\"] == [\"Ana\"] and grades[\"B\"] == [\"Bo\"] and grades[\"D\"] == [\"Cy\"] and grades[\"F\"] == [\"Di\"]\n",
    "```\n"
   ]
  },
  {
   "cell_type": "code",
   "execution_count": 23,
   "id": "cae07ec4",
   "metadata": {},
   "outputs": [],
   "source": [
    "# 1) Squares & odds\n",
    "def squares(n):\n",
    "    return [i*i for i in range(1, n+1)]\n",
    "\n",
    "def odds(xs):\n",
    "    return [x for x in xs if x % 2 == 1]\n",
    "\n",
    "assert squares(4) == [1,4,9,16]\n",
    "assert odds([1,2,3,4]) == [1,3]"
   ]
  },
  {
   "cell_type": "code",
   "execution_count": 24,
   "id": "56cf32e5",
   "metadata": {},
   "outputs": [],
   "source": [
    "# 2) Normalize emails (lowercase + strip) → unique set\n",
    "def normalize_emails(items):\n",
    "    return {e.strip().lower() for e in items}\n",
    "\n",
    "assert normalize_emails([\" A@X.com \",\"a@x.COM\"]) == {\"a@x.com\"}"
   ]
  },
  {
   "cell_type": "code",
   "execution_count": 25,
   "id": "551925ab",
   "metadata": {},
   "outputs": [],
   "source": [
    "# 3) Dict of lengths (filter ≥k)\n",
    "def lengths_at_least(words, k=3):\n",
    "    return {w: len(w) for w in words if len(w) >= k}\n",
    "\n",
    "assert lengths_at_least([\"a\",\"bbb\",\"cc\"],3) == {\"bbb\":3}"
   ]
  },
  {
   "cell_type": "code",
   "execution_count": 26,
   "id": "9f61efdf",
   "metadata": {},
   "outputs": [],
   "source": [
    "# 4) Transpose with nested comprehension (no zip)\n",
    "def transpose(m):\n",
    "    rows = len(m)\n",
    "    cols = len(m[0]) if rows else 0\n",
    "    return [[m[r][c] for r in range(rows)] for c in range(cols)]\n",
    "\n",
    "assert transpose([[1,2,3],[4,5,6]]) == [[1,4],[2,5],[3,6]]"
   ]
  },
  {
   "cell_type": "code",
   "execution_count": 27,
   "id": "873bd585",
   "metadata": {},
   "outputs": [],
   "source": [
    "# 5) Flatten only numbers (ints/floats; exclude bools)\n",
    "def flatten_numbers(rows):\n",
    "    return [\n",
    "        x\n",
    "        for row in rows\n",
    "        for x in row\n",
    "        if isinstance(x, (int, float)) and not isinstance(x, bool)\n",
    "    ]\n",
    "\n",
    "assert flatten_numbers([[1,\"x\"],[2.5,None],[\"y\"]]) == [1,2.5]"
   ]
  },
  {
   "cell_type": "code",
   "execution_count": 28,
   "id": "b30de770",
   "metadata": {},
   "outputs": [],
   "source": [
    "# 6) Frequency (dict comp) with threshold\n",
    "def freq_ge(xs, min_count=2):\n",
    "    from collections import Counter\n",
    "    c = Counter(xs)\n",
    "    return {k: v for k, v in c.items() if v >= min_count}\n",
    "\n",
    "assert freq_ge(\"aabbbc\",3) == {\"b\":3}"
   ]
  },
  {
   "cell_type": "code",
   "execution_count": 29,
   "id": "8496924d",
   "metadata": {},
   "outputs": [],
   "source": [
    "# 7) Reverse index (first character) — keep order\n",
    "def index_by_first_char(words):\n",
    "    groups = {}\n",
    "    for w in words:\n",
    "        if not w:\n",
    "            continue\n",
    "        k = w[0]\n",
    "        groups.setdefault(k, []).append(w)\n",
    "    return groups\n",
    "\n",
    "assert index_by_first_char([\"apple\",\"art\",\"bee\",\"bat\"]) == {\"a\":[\"apple\",\"art\"],\"b\":[\"bee\",\"bat\"]}"
   ]
  },
  {
   "cell_type": "code",
   "execution_count": 30,
   "id": "c07ac90c",
   "metadata": {},
   "outputs": [],
   "source": [
    "def map_square_pos(xs):\n",
    "    return [x*x if x > 0 else x for x in xs]\n",
    "\n",
    "assert map_square_pos([-2,0,3]) == [-2,0,9]"
   ]
  },
  {
   "cell_type": "code",
   "execution_count": null,
   "id": "69e7ed8e",
   "metadata": {},
   "outputs": [
    {
     "data": {
      "text/plain": [
       "{('h', 'i'), ('o', 'h'), ('o', 'k')}"
      ]
     },
     "execution_count": 31,
     "metadata": {},
     "output_type": "execute_result"
    }
   ],
   "source": [
    "# 9) Set of 2-letter combos (letters only)\n",
    "def two_letter_pairs(words):\n",
    "    out = set()\n",
    "    for w in words:\n",
    "        if not isinstance(w, str):\n",
    "            continue\n",
    "        w = w.strip()\n",
    "        if len(w) >= 2 and w[0].isalpha() and w[1].isalpha():\n",
    "            out.add((w[0].lower(), w[1].lower()))\n",
    "    return out\n",
    "\n",
    "assert two_letter_pairs([\"Hi!\",\"oh\",\"2fast\",\"ok\"]) == {(\"h\",\"i\"),(\"o\",\"h\"),(\"o\",\"k\")}"
   ]
  },
  {
   "cell_type": "code",
   "execution_count": 32,
   "id": "0021d8ff",
   "metadata": {},
   "outputs": [],
   "source": [
    "def grade_buckets(pairs):\n",
    "    def bucket(score):\n",
    "        return \"A\" if score >= 90 else \\\n",
    "               \"B\" if score >= 80 else \\\n",
    "               \"C\" if score >= 70 else \\\n",
    "               \"D\" if score >= 60 else \"F\"\n",
    "\n",
    "    # grouping pass (preserve input order)\n",
    "    buckets = {\"A\": [], \"B\": [], \"C\": [], \"D\": [], \"F\": []}\n",
    "    for name, score in pairs:\n",
    "        buckets[bucket(score)].append(name)\n",
    "\n",
    "    # single dict comprehension to drop empties\n",
    "    return {k: v for k, v in buckets.items() if v}\n",
    "\n",
    "grades = grade_buckets([(\"Ana\",95),(\"Bo\",82),(\"Cy\",67),(\"Di\",50)])\n",
    "assert grades[\"A\"] == [\"Ana\"] and grades[\"B\"] == [\"Bo\"] and grades[\"D\"] == [\"Cy\"] and grades[\"F\"] == [\"Di\"]"
   ]
  }
 ],
 "metadata": {
  "kernelspec": {
   "display_name": ".venv (3.12.3)",
   "language": "python",
   "name": "python3"
  },
  "language_info": {
   "codemirror_mode": {
    "name": "ipython",
    "version": 3
   },
   "file_extension": ".py",
   "mimetype": "text/x-python",
   "name": "python",
   "nbconvert_exporter": "python",
   "pygments_lexer": "ipython3",
   "version": "3.12.3"
  }
 },
 "nbformat": 4,
 "nbformat_minor": 5
}
