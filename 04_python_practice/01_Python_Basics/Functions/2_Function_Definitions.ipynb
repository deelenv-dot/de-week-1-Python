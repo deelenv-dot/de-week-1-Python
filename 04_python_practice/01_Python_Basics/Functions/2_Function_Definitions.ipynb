{
 "cells": [
  {
   "attachments": {},
   "cell_type": "markdown",
   "metadata": {},
   "source": [
    "# Function Definitions"
   ]
  },
  {
   "attachments": {},
   "cell_type": "markdown",
   "metadata": {},
   "source": [
    "## Objectives"
   ]
  },
  {
   "attachments": {},
   "cell_type": "markdown",
   "metadata": {},
   "source": [
    "At the end of this notebook you should be able to:\n",
    "\n",
    "- pass an argument to a function\n",
    "- to create a function with multiple parameters\n",
    "\n",
    "Up to this point, we have just worked with functions that return the same output every time. What if we want a function to act in different ways depending on some input? As we've hinted at, functions can be defined so that their behavior changes depending on what values are **passed** to them. You can pass any data structure(s) to a function, so long as it expects the right number of them. Values that are passed to a function are called **arguments**.\n",
    "\n",
    "How does a function \"expect\" arguments to be passed to it? In the parentheses of a function definition, we put the names of the variables that we expect a user of our function to pass to it. We call these special variables **parameters**. This is where functions get their flexibility. When you define a function with a certain number of parameters, you can then refer to those parameters within the body of the function. Since those parameters are set when a user passes arguments to the function, they are actually controlling what happens inside the function!\n",
    "\n",
    "Let's look at how we can make a function flexible by changing the `get_evens()` function that we defined in the first codealong. Instead of creating a list of evens from 0 to 10 every time, let's have `get_evens()` build an arbitrarily sized list of evens, from 0 to a number the user passes in. Using our current `get_evens()` as a base, we'll begin by adding a parameter to the function definition. This parameter will control the size of the evens list that our function builds. "
   ]
  },
  {
   "cell_type": "code",
   "execution_count": null,
   "metadata": {
    "ExecuteTime": {
     "end_time": "2020-07-20T09:26:49.271964Z",
     "start_time": "2020-07-20T09:26:49.265577Z"
    }
   },
   "outputs": [],
   "source": [
    "def get_evens(n): \n",
    "    evens = []\n",
    "    for element in range(n): \n",
    "        if element % 2 == 0: \n",
    "            evens.append(element)\n",
    "    return evens"
   ]
  },
  {
   "attachments": {},
   "cell_type": "markdown",
   "metadata": {},
   "source": [
    "With this implementation of our function, we can now pass in an arbitrary number to our function call, and then we will search for evens in a `range()` built with that arbitrary number. How exactly does this work, though? We've told Python that our function should expect one and only one argument. When we call the function and pass in that argument, it will get assigned to whatever name we have given in the function definition - `n` in this case. Then, anytime we reference that parameter, `n`, within the function, it will be the value that was passed to the function. Let's check out a couple of different calls to this function and see what they return."
   ]
  },
  {
   "cell_type": "code",
   "execution_count": null,
   "metadata": {
    "ExecuteTime": {
     "end_time": "2020-07-20T09:27:26.624940Z",
     "start_time": "2020-07-20T09:27:26.605458Z"
    }
   },
   "outputs": [],
   "source": [
    "get_evens(5)"
   ]
  },
  {
   "cell_type": "code",
   "execution_count": null,
   "metadata": {
    "ExecuteTime": {
     "end_time": "2020-07-20T09:27:27.548548Z",
     "start_time": "2020-07-20T09:27:27.541263Z"
    }
   },
   "outputs": [],
   "source": [
    "get_evens(14)"
   ]
  },
  {
   "cell_type": "code",
   "execution_count": null,
   "metadata": {
    "ExecuteTime": {
     "end_time": "2020-07-20T09:27:28.455924Z",
     "start_time": "2020-07-20T09:27:28.445454Z"
    }
   },
   "outputs": [],
   "source": [
    "get_evens(20)"
   ]
  },
  {
   "cell_type": "code",
   "execution_count": null,
   "metadata": {},
   "outputs": [],
   "source": []
  },
  {
   "attachments": {},
   "cell_type": "markdown",
   "metadata": {},
   "source": [
    "In addition to defining our function with the ability to have arguments passed in, we can also build it so that our parameter gets a value **by default** if the function is called without an argument passed in. This is useful if we want to build our function to have some default behavior, but still allow users to pass in arguments that change the default behavior or build off of it somehow. How do we specify a default parameter value for a function? It's actually pretty simple. In the function definition itself, we just place an equals sign (`=`)  after the parameter name, and then the default value that we want to specify (**Note**: Python formatting convention dictates that there should be no spaces surrounding equals signs used in this way)."
   ]
  },
  {
   "cell_type": "code",
   "execution_count": null,
   "metadata": {
    "ExecuteTime": {
     "end_time": "2020-07-20T09:28:35.407153Z",
     "start_time": "2020-07-20T09:28:35.399748Z"
    }
   },
   "outputs": [],
   "source": [
    "def get_evens(n=5): \n",
    "    evens = []\n",
    "    for element in range(n): \n",
    "        if element % 2 == 0: \n",
    "            evens.append(element)\n",
    "    return evens"
   ]
  },
  {
   "cell_type": "code",
   "execution_count": null,
   "metadata": {
    "ExecuteTime": {
     "end_time": "2020-07-20T09:28:36.104646Z",
     "start_time": "2020-07-20T09:28:36.095517Z"
    }
   },
   "outputs": [],
   "source": [
    "get_evens()"
   ]
  },
  {
   "cell_type": "code",
   "execution_count": null,
   "metadata": {
    "ExecuteTime": {
     "end_time": "2020-07-20T09:28:36.873361Z",
     "start_time": "2020-07-20T09:28:36.863387Z"
    }
   },
   "outputs": [],
   "source": [
    "get_evens(5)"
   ]
  },
  {
   "cell_type": "code",
   "execution_count": null,
   "metadata": {
    "ExecuteTime": {
     "end_time": "2020-07-20T09:28:37.600905Z",
     "start_time": "2020-07-20T09:28:37.592055Z"
    }
   },
   "outputs": [],
   "source": [
    "get_evens(14)"
   ]
  },
  {
   "cell_type": "code",
   "execution_count": null,
   "metadata": {
    "ExecuteTime": {
     "end_time": "2020-07-20T09:28:39.837956Z",
     "start_time": "2020-07-20T09:28:39.826578Z"
    }
   },
   "outputs": [],
   "source": [
    "get_evens(20)"
   ]
  },
  {
   "attachments": {},
   "cell_type": "markdown",
   "metadata": {},
   "source": [
    "Here, we've specified the default value for `n` to be 5. That is, if no value is passed in for `n`, it gets assigned the value of 5 by default. You'll notice in the first function call to `get_evens()` where we pass no arguments, we get the same output as if we pass in the value 5 (which makes sense, since we set 5 as the default). Meanwhile, when we pass in other values, we get the same results as we saw when no default value was set. This is the point of setting a default parameter value - if the caller of the function specifies a value for that parameter, then that is the value used in the function; otherwise, the specified default value is used."
   ]
  },
  {
   "attachments": {},
   "cell_type": "markdown",
   "metadata": {},
   "source": [
    "We can also define our functions with multiple parameters, and then pass in multiple arguments for those parameters when calling the function. Similar to specifying a default value for a single parameter, we can specify default values for multiple parameters. Let's first modify our function so that we by default return a list of evens from the user inputted range, defined by `n`, but also give the user the option to input a different divisor (instead of 2 for the evens) that will then return numbers in the inputted range that are divisible by the inputted divisor (i.e. the multiples of that number). We'll also change our function name and the name of the returned list (`evens`) so that they become more descriptive (our function is no longer outputting just evens).  "
   ]
  },
  {
   "cell_type": "code",
   "execution_count": null,
   "metadata": {
    "ExecuteTime": {
     "end_time": "2020-07-20T09:30:31.208255Z",
     "start_time": "2020-07-20T09:30:31.201279Z"
    }
   },
   "outputs": [],
   "source": [
    "def get_multiples(n=5, divisor=2): \n",
    "    multiples_lst = []\n",
    "    for element in range(n): \n",
    "        if element % divisor == 0: \n",
    "            multiples_lst.append(element)\n",
    "    return multiples_lst"
   ]
  },
  {
   "cell_type": "code",
   "execution_count": null,
   "metadata": {
    "ExecuteTime": {
     "end_time": "2020-07-20T09:30:31.906113Z",
     "start_time": "2020-07-20T09:30:31.896764Z"
    }
   },
   "outputs": [],
   "source": [
    "get_multiples()"
   ]
  },
  {
   "cell_type": "code",
   "execution_count": null,
   "metadata": {
    "ExecuteTime": {
     "end_time": "2020-07-20T09:30:32.524560Z",
     "start_time": "2020-07-20T09:30:32.515367Z"
    }
   },
   "outputs": [],
   "source": [
    "get_multiples(5)"
   ]
  },
  {
   "cell_type": "code",
   "execution_count": null,
   "metadata": {
    "ExecuteTime": {
     "end_time": "2020-07-20T09:30:33.057469Z",
     "start_time": "2020-07-20T09:30:33.048503Z"
    }
   },
   "outputs": [],
   "source": [
    "get_multiples(5, 2)"
   ]
  },
  {
   "cell_type": "code",
   "execution_count": null,
   "metadata": {
    "ExecuteTime": {
     "end_time": "2020-07-20T09:30:35.546057Z",
     "start_time": "2020-07-20T09:30:35.536691Z"
    }
   },
   "outputs": [],
   "source": [
    "get_multiples(10, 2)"
   ]
  },
  {
   "cell_type": "code",
   "execution_count": null,
   "metadata": {
    "ExecuteTime": {
     "end_time": "2020-07-20T09:30:36.130405Z",
     "start_time": "2020-07-20T09:30:36.120706Z"
    }
   },
   "outputs": [],
   "source": [
    "get_multiples(10, 3)"
   ]
  },
  {
   "cell_type": "code",
   "execution_count": null,
   "metadata": {
    "ExecuteTime": {
     "end_time": "2020-07-20T09:30:37.929394Z",
     "start_time": "2020-07-20T09:30:37.920488Z"
    }
   },
   "outputs": [],
   "source": [
    "get_multiples(100, 10)"
   ]
  },
  {
   "attachments": {},
   "cell_type": "markdown",
   "metadata": {},
   "source": [
    "As you can see from the first three examples above, the output of our function looks the same as `get_evens()` - by default we still output a list of the even numbers up to 5, and when we pass in 5 as the value of `n` and 2 as the value of `divisor`, we also output a list of the evens up to 5. The other function calls also give us access to the new, generalized version of `get_evens()`, just as we wanted."
   ]
  },
  {
   "attachments": {},
   "cell_type": "markdown",
   "metadata": {},
   "source": [
    "Let's take a quick look at a syntactic \"rule\" that we have to follow when we define functions with default values. When we do this, we have to make sure that any parameters we are giving default values are **after** any parameters that we are not giving default values. Let's check out some examples..."
   ]
  },
  {
   "cell_type": "code",
   "execution_count": null,
   "metadata": {
    "ExecuteTime": {
     "end_time": "2020-07-20T09:31:41.488324Z",
     "start_time": "2020-07-20T09:31:41.481640Z"
    }
   },
   "outputs": [],
   "source": [
    "def get_multiples(n, divisor=2): \n",
    "    multiples_lst = []\n",
    "    for element in range(n): \n",
    "        if element % divisor == 0: \n",
    "            multiples_lst.append(element)\n",
    "    return multiples_lst"
   ]
  },
  {
   "cell_type": "code",
   "execution_count": 1,
   "metadata": {
    "ExecuteTime": {
     "end_time": "2020-07-20T09:31:43.459870Z",
     "start_time": "2020-07-20T09:31:43.448414Z"
    }
   },
   "outputs": [
    {
     "ename": "SyntaxError",
     "evalue": "parameter without a default follows parameter with a default (3489222303.py, line 1)",
     "output_type": "error",
     "traceback": [
      "  \u001b[36mCell\u001b[39m\u001b[36m \u001b[39m\u001b[32mIn[1]\u001b[39m\u001b[32m, line 1\u001b[39m\n\u001b[31m    \u001b[39m\u001b[31mdef get_multiples(n=5, divisor):\u001b[39m\n                           ^\n\u001b[31mSyntaxError\u001b[39m\u001b[31m:\u001b[39m parameter without a default follows parameter with a default\n"
     ]
    }
   ],
   "source": [
    "def get_multiples(n=5, divisor): \n",
    "    multiples_lst = []\n",
    "    for element in range(n): \n",
    "        if element % divisor == 0: \n",
    "            multiples_lst.append(element)\n",
    "    return multiples_lst"
   ]
  },
  {
   "attachments": {},
   "cell_type": "markdown",
   "metadata": {},
   "source": [
    "The above code demonstrates this \"rule\". In the first case, we defined our parameters that have default values (which is only one, `divisor`) after defining our parameters that don't have default values (which is only one, `n`). In this case, everything worked fine! In the second case, we defined a parameter with a default value before a parameter without a default value. That's a no no, and Python let us know!\n"
   ]
  },
  {
   "cell_type": "code",
   "execution_count": null,
   "metadata": {},
   "outputs": [],
   "source": []
  },
  {
   "attachments": {},
   "cell_type": "markdown",
   "metadata": {},
   "source": [
    "## Check your understanding"
   ]
  },
  {
   "attachments": {},
   "cell_type": "markdown",
   "metadata": {},
   "source": [
    "**Function Definitions: Part 2 Intro Questions**\n",
    "\n",
    "1. **Type** out the `get_evens` in the cell below. Typing it out will give you some practice building a function. \n",
    "2. Call the function with a couple of different arguments. Before you call it, though, write down what you expect it to output. Do the function calls output what you expect? Why or why not?"
   ]
  },
  {
   "attachments": {},
   "cell_type": "markdown",
   "metadata": {},
   "source": [
    "**Function Default Arguments Questions**\n",
    "\n",
    "1. Take the function definition above, and change the default value to `10`. What do you expect the function call `get_evens()` with no arguments to return? What about `get_evens(10)`? \n",
    "2. Now change the function definition above to have a default value of `20`. Do you expect the calls `get_evens()` and `get_evens(20)` give the same output? Why or why not? \n",
    "3. Leaving the function with a default value of `20`, call it with arguments of `5` and `10`. What do you expect the output to be? Run it, and either verify your results or figure out why the output differed from what you expected. "
   ]
  },
  {
   "attachments": {},
   "cell_type": "markdown",
   "metadata": {},
   "source": [
    "**Multiple Argument Function Questions**\n",
    "\n",
    "1. Change the default values of `n` and `divisor` in our `get_multiples` function to `100` and `10`, respectively. What do you think the function call `get_multiples()` would output, now? Call this from a cell, and verify your answer or figure out why the output differed from what you expected. \n",
    "2. Now, call `get_multiples(100, 10)`. Again, note what you expect this call will output before calling it. Is the output the same as in `1`. Why or why not?"
   ]
  },
  {
   "attachments": {},
   "cell_type": "markdown",
   "metadata": {},
   "source": [
    "**Parameters vs Arguments**\n",
    "\n",
    "As a quick reminder, it may seem like the terms \"parameter\" and \"argument\" are being used seemingly interchangeably. These two terms have specific and distinct definitions. A **parameter** is the name of a variable given in a function definition. An **argument** is the value that is passed to a function when it is called. \n",
    "\n",
    "#### Multiple Argument Function Questions Part 2\n",
    "\n",
    "1. Which of the following function definitions are valid? Why?\n",
    "    1. ```python \n",
    "            def my_func1(var1='Hello', var2): \n",
    "                pass\n",
    "       ```\n",
    "    2. ```python \n",
    "            def my_func2(var1, var2='Hello'): \n",
    "                pass\n",
    "       ```\n",
    "    3. ```python \n",
    "            def my_func3(var1, var2=35): \n",
    "                pass\n",
    "       ```\n",
    "    4. ```python \n",
    "            def my_func4(var1=35, var2): \n",
    "                pass\n",
    "       ```\n",
    "    5. ```python \n",
    "            def my_func5(var1=35, var2='Hello'): \n",
    "                pass\n",
    "       ```\n",
    "    6. ```python \n",
    "            def my_func6(var1, var2): \n",
    "                pass\n",
    "       ```\n",
    "2. Verify your answers by typing these into cells, or figure out why you don't see the results you expected. "
   ]
  },
  {
   "cell_type": "code",
   "execution_count": null,
   "metadata": {},
   "outputs": [],
   "source": []
  }
 ],
 "metadata": {
  "kernelspec": {
   "display_name": ".venv (3.12.3)",
   "language": "python",
   "name": "python3"
  },
  "language_info": {
   "codemirror_mode": {
    "name": "ipython",
    "version": 3
   },
   "file_extension": ".py",
   "mimetype": "text/x-python",
   "name": "python",
   "nbconvert_exporter": "python",
   "pygments_lexer": "ipython3",
   "version": "3.12.3"
  },
  "toc": {
   "base_numbering": 1,
   "nav_menu": {},
   "number_sections": true,
   "sideBar": true,
   "skip_h1_title": false,
   "title_cell": "Table of Contents",
   "title_sidebar": "Contents",
   "toc_cell": false,
   "toc_position": {},
   "toc_section_display": true,
   "toc_window_display": false
  },
  "varInspector": {
   "cols": {
    "lenName": 16,
    "lenType": 16,
    "lenVar": 40
   },
   "kernels_config": {
    "python": {
     "delete_cmd_postfix": "",
     "delete_cmd_prefix": "del ",
     "library": "var_list.py",
     "varRefreshCmd": "print(var_dic_list())"
    },
    "r": {
     "delete_cmd_postfix": ") ",
     "delete_cmd_prefix": "rm(",
     "library": "var_list.r",
     "varRefreshCmd": "cat(var_dic_list()) "
    }
   },
   "types_to_exclude": [
    "module",
    "function",
    "builtin_function_or_method",
    "instance",
    "_Feature"
   ],
   "window_display": false
  }
 },
 "nbformat": 4,
 "nbformat_minor": 4
}
