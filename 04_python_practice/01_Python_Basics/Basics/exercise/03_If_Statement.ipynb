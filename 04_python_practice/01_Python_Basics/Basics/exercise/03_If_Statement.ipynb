{
 "cells": [
  {
   "cell_type": "markdown",
   "id": "f567dd41-7e8b-4b97-a156-336f45680db4",
   "metadata": {},
   "source": [
    "# 3) If-Statement (if/elif/else) — Exercises\n",
    "\n",
    "**Learning goals:** boolean logic, truthiness, guards, ternary expressions, input validation."
   ]
  },
  {
   "cell_type": "markdown",
   "id": "8c4a3086-5464-4577-937b-d81da8a09e0f",
   "metadata": {},
   "source": [
    "### Warm-ups\n",
    "\n",
    "1. **FizzBuzz (classic)**\n",
    "\n",
    "   * `fizzbuzz(n)` → `\"Fizz\"`, `\"Buzz\"`, `\"FizzBuzz\"`, or `str(n)`.\n",
    "\n",
    "   ```python\n",
    "   def fizzbuzz(n):\n",
    "       ...\n",
    "   assert fizzbuzz(15) == \"FizzBuzz\"\n",
    "   ```\n",
    "\n",
    "2. **Categorize temperature**\n",
    "\n",
    "   * `temp_label(c)` → `freezing` (<0), `cold` (<10), `mild` (<20), `warm` (<30), `hot` (else).\n",
    "\n",
    "   ```python\n",
    "   def temp_label(c):\n",
    "       ...\n",
    "   ```\n",
    "\n",
    "3. **Truthy length**\n",
    "\n",
    "   * `choose_label(s)` → `\"empty\"` if string is empty/whitespace; `\"short\"` (≤3), `\"long\"` (>3).\n",
    "\n",
    "   ```python\n",
    "   def choose_label(s):\n",
    "       ...\n",
    "   ```\n",
    "\n",
    "### Core\n",
    "\n",
    "4. **Grade boundaries**\n",
    "\n",
    "   * `grade(score)` with 0–100 validation; raise `ValueError` otherwise. Return `A/B/C/D/F`.\n",
    "\n",
    "   ```python\n",
    "   def grade(score):\n",
    "       ...\n",
    "   ```\n",
    "\n",
    "5. **Password strength (simple)**\n",
    "\n",
    "   * `password_strength(s)` returns `\"weak\"`, `\"medium\"`, `\"strong\"` based on length and presence of digit/special.\n",
    "\n",
    "   ```python\n",
    "   def password_strength(s):\n",
    "       ...\n",
    "   ```\n",
    "\n",
    "6. **Shipping rules**\n",
    "\n",
    "   * `shipping_cost(weight_kg, country, premium=False)`:\n",
    "\n",
    "     * base by weight: ≤1kg: 5; ≤5kg: 10; else: 20\n",
    "     * non-local country adds 15\n",
    "     * premium adds +25 at the end\n",
    "\n",
    "   ```python\n",
    "   def shipping_cost(weight_kg, country, premium=False, local_country=\"IN\"):\n",
    "       ...\n",
    "   ```\n",
    "\n",
    "7. **Pick earliest valid date**\n",
    "\n",
    "   * Given three `(y,m,d)` tuples, `earliest_valid(dates)` where each must pass simple checks (1≤m≤12, 1≤d≤31) else ignore. Return earliest valid or `None`.\n",
    "\n",
    "   ```python\n",
    "   def earliest_valid(dates):\n",
    "       ...\n",
    "   ```\n",
    "\n",
    "8. **Safe cast**\n",
    "\n",
    "   * `to_int(s, default=None)` returns int or default; only accept pure integer strings (e.g., `\" 12 \"` ok after strip, `\"12.0\"` not ok).\n",
    "\n",
    "   ```python\n",
    "   def to_int(s, default=None):\n",
    "       ...\n",
    "   ```\n",
    "\n",
    "9. **Guard clauses**\n",
    "\n",
    "   * `discount(price, code)` → if `price<=0` return 0; if `code==\"NONE\"` return `price`; if `code==\"HALF\"` return `price*0.5`; else return `price*0.9`.\n",
    "\n",
    "   ```python\n",
    "   def discount(price, code):\n",
    "       ...\n",
    "   ```\n",
    "\n",
    "### Challenge\n",
    "\n",
    "10. **Ternary map**\n",
    "\n",
    "    * `label_numbers(nums)` → for each n: `\"neg\" if n<0`, `\"zero\" if n==0`, `\"pos\" if n>0`. Use a list comprehension with a ternary chain internally (but focus on if-logic correctness).\n",
    "\n",
    "    ```python\n",
    "    def label_numbers(nums):\n",
    "        ...\n",
    "    assert label_numbers([-1,0,2]) == [\"neg\",\"zero\",\"pos\"]\n",
    "    ```\n",
    "\n"
   ]
  },
  {
   "cell_type": "code",
   "execution_count": 37,
   "id": "b5961830",
   "metadata": {},
   "outputs": [],
   "source": [
    "# `fizzbuzz(n)` → `\"Fizz\"`, `\"Buzz\"`, `\"FizzBuzz\"`, or `str(n)`.\n",
    "\n",
    "def fizzbuzz(n):\n",
    "    if n % 3 == 0 and n % 5 == 0:\n",
    "        return \"FizzBuzz\"\n",
    "    elif n % 3 == 0:\n",
    "        return \"Fizz\"\n",
    "    elif n % 5 == 0:\n",
    "        return \"Buzz\"\n",
    "    else:\n",
    "        return str(n)\n",
    "\n",
    "assert fizzbuzz(15) == \"FizzBuzz\""
   ]
  },
  {
   "cell_type": "code",
   "execution_count": 38,
   "id": "89ea294e",
   "metadata": {},
   "outputs": [
    {
     "data": {
      "text/plain": [
       "'mild'"
      ]
     },
     "execution_count": 38,
     "metadata": {},
     "output_type": "execute_result"
    }
   ],
   "source": [
    "# `temp_label(c)` → `freezing` (<0), `cold` (<10), `mild` (<20), `warm` (<30), `hot` (else).\n",
    "\n",
    "def temp_label(c):\n",
    "    if c < 0:\n",
    "        return 'freezing'\n",
    "    elif c < 10:\n",
    "        return 'cold'\n",
    "    elif c < 20:\n",
    "        return 'mild'\n",
    "    elif c < 30:\n",
    "        return 'warm'\n",
    "    else:\n",
    "        return 'hot'\n",
    "\n",
    "temp_label(15)"
   ]
  },
  {
   "cell_type": "code",
   "execution_count": 39,
   "id": "d5d27b50",
   "metadata": {},
   "outputs": [
    {
     "data": {
      "text/plain": [
       "'empty'"
      ]
     },
     "execution_count": 39,
     "metadata": {},
     "output_type": "execute_result"
    }
   ],
   "source": [
    "# `choose_label(s)` → `\"empty\"` if string is empty/whitespace; `\"short\"` (≤3), `\"long\"` (>3).\n",
    "\n",
    "def choose_label(s):\n",
    "    cnt = 0\n",
    "    \n",
    "    for c in s:\n",
    "        if c == ' ':\n",
    "            cnt += 1\n",
    "    \n",
    "    if s == '' or len(s) == cnt:\n",
    "        return 'empty'\n",
    "    elif len(s) <= 3:\n",
    "        return 'short'\n",
    "    else:\n",
    "        return 'long'\n",
    "\n",
    "choose_label('    ')"
   ]
  },
  {
   "cell_type": "code",
   "execution_count": 40,
   "id": "eec9ab45",
   "metadata": {},
   "outputs": [
    {
     "data": {
      "text/plain": [
       "'A'"
      ]
     },
     "execution_count": 40,
     "metadata": {},
     "output_type": "execute_result"
    }
   ],
   "source": [
    "# `grade(score)` with 0–100 validation; raise `ValueError` otherwise. Return `A/B/C/D/F`.\n",
    "\n",
    "def grade(score):\n",
    "    if score < 0 or score > 100:\n",
    "        raise ValueError(\"wrong number\")\n",
    "    elif score < 20:\n",
    "        return 'F'\n",
    "    elif score < 40:\n",
    "        return 'D'\n",
    "    elif score < 60:\n",
    "        return 'C'\n",
    "    elif score < 80:\n",
    "        return 'B'\n",
    "    else:\n",
    "        return 'A'\n",
    "\n",
    "grade(80)"
   ]
  },
  {
   "cell_type": "code",
   "execution_count": 41,
   "id": "b487221e",
   "metadata": {},
   "outputs": [],
   "source": [
    "# `password_strength(s)` returns `\"weak\"`, `\"medium\"`, `\"strong\"` based on length and presence of digit/special.\n",
    "\n",
    "import string\n",
    "\n",
    "def password_strength(s):\n",
    "    has_digit = any(ch.isdigit() for ch in s)\n",
    "    has_special = any(ch in string.punctuation for ch in s)\n",
    "    has_alpha = any(ch.isalpha() for ch in s)\n",
    "\n",
    "    if len(s) < 6:\n",
    "        return \"weak\"\n",
    "    if len(s) >= 8 and has_alpha and has_digit and has_special:\n",
    "        return \"strong\"\n",
    "    if has_alpha and (has_digit or has_special):\n",
    "        return \"medium\"\n",
    "    return \"weak\""
   ]
  },
  {
   "cell_type": "code",
   "execution_count": 42,
   "id": "1da83bc5",
   "metadata": {},
   "outputs": [],
   "source": [
    "# `shipping_cost(weight_kg, country, premium=False)`:\n",
    "\n",
    "    # * base by weight: ≤1kg: 5; ≤5kg: 10; else: 20\n",
    "    # * non-local country adds 15\n",
    "    # * premium adds +25 at the end\n",
    "\n",
    "def shipping_cost(weight_kg, country, premium=False, local_country=\"IN\"):\n",
    "    cost = 0\n",
    "    \n",
    "    if weight_kg <= 1:\n",
    "        cost = 5\n",
    "    elif weight_kg <= 5:\n",
    "        cost = 10\n",
    "    else:\n",
    "        cost = 20\n",
    "    \n",
    "    if country != local_country:\n",
    "        cost += 15\n",
    "    \n",
    "    if premium == True:\n",
    "        cost += 25\n",
    "    \n",
    "    return cost"
   ]
  },
  {
   "cell_type": "code",
   "execution_count": 43,
   "id": "200be4b2",
   "metadata": {},
   "outputs": [],
   "source": [
    "# Given three `(y,m,d)` tuples, `earliest_valid(dates)` where each must pass simple checks (1≤m≤12, 1≤d≤31) else ignore. Return earliest valid or `None`.\n",
    "\n",
    "def earliest_valid(dates):\n",
    "    valid = []\n",
    "    for (y, m, d) in dates:\n",
    "        if 1 <= m <= 12 and 1 <= d <= 31:\n",
    "            valid.append((y, m, d))\n",
    "    if not valid:\n",
    "        return None\n",
    "    return min(valid)"
   ]
  },
  {
   "cell_type": "code",
   "execution_count": 44,
   "id": "ce1106f2",
   "metadata": {},
   "outputs": [],
   "source": [
    "# `to_int(s, default=None)` returns int or default; only accept pure integer strings (e.g., `\" 12 \"` ok after strip, `\"12.0\"` not ok).\n",
    "\n",
    "def to_int(s, default=None):\n",
    "    s = s.strip()\n",
    "    if not s:\n",
    "        return default\n",
    "    if s.isdigit() or (s[0] in \"+-\" and s[1:].isdigit()):\n",
    "        return int(s)\n",
    "    return default"
   ]
  },
  {
   "cell_type": "code",
   "execution_count": 45,
   "id": "98c16a0d",
   "metadata": {},
   "outputs": [],
   "source": [
    "# `discount(price, code)` → if `price<=0` return 0; if `code==\"NONE\"` return `price`; if `code==\"HALF\"` return `price*0.5`; else return `price*0.9`.\n",
    "\n",
    "def discount(price, code):\n",
    "    if price <= 0:\n",
    "        return 0\n",
    "    \n",
    "    if code == \"NONE\":\n",
    "        return price\n",
    "    elif code == \"HALF\":\n",
    "        return price * 0.5\n",
    "    else:\n",
    "        return price * 0.9\n"
   ]
  },
  {
   "cell_type": "code",
   "execution_count": 46,
   "id": "06c2613e",
   "metadata": {},
   "outputs": [],
   "source": [
    "# `label_numbers(nums)` → for each n: `\"neg\" if n<0`, `\"zero\" if n==0`, `\"pos\" if n>0`. Use a list comprehension with a ternary chain internally (but focus on if-logic correctness).\n",
    "\n",
    "def label_numbers(nums):\n",
    "    return [\"neg\" if n < 0 else \"zero\" if n == 0 else \"pos\" for n in nums]\n",
    "\n",
    "assert label_numbers([-1,0,2]) == [\"neg\",\"zero\",\"pos\"]"
   ]
  }
 ],
 "metadata": {
  "kernelspec": {
   "display_name": ".venv (3.12.3)",
   "language": "python",
   "name": "python3"
  },
  "language_info": {
   "codemirror_mode": {
    "name": "ipython",
    "version": 3
   },
   "file_extension": ".py",
   "mimetype": "text/x-python",
   "name": "python",
   "nbconvert_exporter": "python",
   "pygments_lexer": "ipython3",
   "version": "3.12.3"
  }
 },
 "nbformat": 4,
 "nbformat_minor": 5
}
